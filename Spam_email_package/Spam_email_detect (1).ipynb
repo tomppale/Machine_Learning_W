{
 "cells": [
  {
   "cell_type": "code",
   "execution_count": 1,
   "id": "727283e9-d6cb-449a-aaf4-d4e36e4dd357",
   "metadata": {
    "tags": []
   },
   "outputs": [],
   "source": [
    "import numpy as np\n",
    "import pandas as pd\n",
    "import matplotlib.pyplot as plt\n",
    "import seaborn as sns\n",
    "from collections import Counter\n",
    "from sklearn.model_selection import train_test_split\n",
    "from sklearn.feature_extraction.text import TfidfVectorizer\n",
    "from sklearn.linear_model import LogisticRegression\n",
    "from sklearn.metrics import accuracy_score, confusion_matrix, log_loss"
   ]
  },
  {
   "cell_type": "code",
   "execution_count": 2,
   "id": "5e7908fe-e3c4-4489-a7a8-ee5c3aa4bef4",
   "metadata": {
    "tags": []
   },
   "outputs": [
    {
     "name": "stdout",
     "output_type": "stream",
     "text": [
      "        v1                                                 v2 Unnamed: 2  \\\n",
      "0      ham  Go until jurong point, crazy.. Available only ...        NaN   \n",
      "1      ham                      Ok lar... Joking wif u oni...        NaN   \n",
      "2     spam  Free entry in 2 a wkly comp to win FA Cup fina...        NaN   \n",
      "3      ham  U dun say so early hor... U c already then say...        NaN   \n",
      "4      ham  Nah I don't think he goes to usf, he lives aro...        NaN   \n",
      "...    ...                                                ...        ...   \n",
      "5567  spam  This is the 2nd time we have tried 2 contact u...        NaN   \n",
      "5568   ham              Will Ì_ b going to esplanade fr home?        NaN   \n",
      "5569   ham  Pity, * was in mood for that. So...any other s...        NaN   \n",
      "5570   ham  The guy did some bitching but I acted like i'd...        NaN   \n",
      "5571   ham                         Rofl. Its true to its name        NaN   \n",
      "\n",
      "     Unnamed: 3 Unnamed: 4  \n",
      "0           NaN        NaN  \n",
      "1           NaN        NaN  \n",
      "2           NaN        NaN  \n",
      "3           NaN        NaN  \n",
      "4           NaN        NaN  \n",
      "...         ...        ...  \n",
      "5567        NaN        NaN  \n",
      "5568        NaN        NaN  \n",
      "5569        NaN        NaN  \n",
      "5570        NaN        NaN  \n",
      "5571        NaN        NaN  \n",
      "\n",
      "[5572 rows x 5 columns]\n"
     ]
    }
   ],
   "source": [
    "# Read the dataset full of spams and non-spams where in the spam-column:\n",
    "dataframe = pd.read_csv('spam.csv', encoding = 'latin1')\n",
    "print(dataframe)"
   ]
  },
  {
   "cell_type": "code",
   "execution_count": 3,
   "id": "3c085b28-db49-45f4-9b56-2ba15db237f8",
   "metadata": {
    "tags": []
   },
   "outputs": [
    {
     "data": {
      "text/html": [
       "<div>\n",
       "<style scoped>\n",
       "    .dataframe tbody tr th:only-of-type {\n",
       "        vertical-align: middle;\n",
       "    }\n",
       "\n",
       "    .dataframe tbody tr th {\n",
       "        vertical-align: top;\n",
       "    }\n",
       "\n",
       "    .dataframe thead th {\n",
       "        text-align: right;\n",
       "    }\n",
       "</style>\n",
       "<table border=\"1\" class=\"dataframe\">\n",
       "  <thead>\n",
       "    <tr style=\"text-align: right;\">\n",
       "      <th></th>\n",
       "      <th>v1</th>\n",
       "      <th>v2</th>\n",
       "    </tr>\n",
       "  </thead>\n",
       "  <tbody>\n",
       "    <tr>\n",
       "      <th>0</th>\n",
       "      <td>ham</td>\n",
       "      <td>Go until jurong point, crazy.. Available only ...</td>\n",
       "    </tr>\n",
       "    <tr>\n",
       "      <th>1</th>\n",
       "      <td>ham</td>\n",
       "      <td>Ok lar... Joking wif u oni...</td>\n",
       "    </tr>\n",
       "    <tr>\n",
       "      <th>2</th>\n",
       "      <td>spam</td>\n",
       "      <td>Free entry in 2 a wkly comp to win FA Cup fina...</td>\n",
       "    </tr>\n",
       "    <tr>\n",
       "      <th>3</th>\n",
       "      <td>ham</td>\n",
       "      <td>U dun say so early hor... U c already then say...</td>\n",
       "    </tr>\n",
       "    <tr>\n",
       "      <th>4</th>\n",
       "      <td>ham</td>\n",
       "      <td>Nah I don't think he goes to usf, he lives aro...</td>\n",
       "    </tr>\n",
       "  </tbody>\n",
       "</table>\n",
       "</div>"
      ],
      "text/plain": [
       "     v1                                                 v2\n",
       "0   ham  Go until jurong point, crazy.. Available only ...\n",
       "1   ham                      Ok lar... Joking wif u oni...\n",
       "2  spam  Free entry in 2 a wkly comp to win FA Cup fina...\n",
       "3   ham  U dun say so early hor... U c already then say...\n",
       "4   ham  Nah I don't think he goes to usf, he lives aro..."
      ]
     },
     "execution_count": 3,
     "metadata": {},
     "output_type": "execute_result"
    }
   ],
   "source": [
    "# Let's drop the unneccessary columns and extract the data we want, which is emails with some kind of content i.e not empty \n",
    "dataframe = dataframe.drop(['Unnamed: 2', 'Unnamed: 3', 'Unnamed: 4'],axis=1)\n",
    "dataframe.head()"
   ]
  },
  {
   "cell_type": "code",
   "execution_count": 4,
   "id": "e3f71901-1a2f-4244-9c01-5fbb4cd8c8d6",
   "metadata": {
    "tags": []
   },
   "outputs": [],
   "source": [
    "# Let's also change 'v1' and 'v2' names for cleaner set\n",
    "dataframe.columns = ['Label', 'E-mail']"
   ]
  },
  {
   "cell_type": "code",
   "execution_count": 5,
   "id": "746497df-b61b-4a92-bf77-7caa407d1435",
   "metadata": {
    "tags": []
   },
   "outputs": [
    {
     "name": "stdout",
     "output_type": "stream",
     "text": [
      "<class 'pandas.core.frame.DataFrame'>\n",
      "RangeIndex: 5572 entries, 0 to 5571\n",
      "Data columns (total 2 columns):\n",
      " #   Column  Non-Null Count  Dtype \n",
      "---  ------  --------------  ----- \n",
      " 0   Label   5572 non-null   object\n",
      " 1   E-mail  5572 non-null   object\n",
      "dtypes: object(2)\n",
      "memory usage: 87.2+ KB\n"
     ]
    }
   ],
   "source": [
    "dataframe.info()"
   ]
  },
  {
   "cell_type": "code",
   "execution_count": 6,
   "id": "6b691c28-a91e-480e-be22-ff93b8b170c2",
   "metadata": {
    "tags": []
   },
   "outputs": [
    {
     "data": {
      "text/plain": [
       "403"
      ]
     },
     "execution_count": 6,
     "metadata": {},
     "output_type": "execute_result"
    }
   ],
   "source": [
    "# Let's check and get rid of duplicates if there are any\n",
    "dataframe.duplicated().sum()"
   ]
  },
  {
   "cell_type": "code",
   "execution_count": 7,
   "id": "7f5f8fcb-9658-4086-a079-34add8319ff1",
   "metadata": {
    "tags": []
   },
   "outputs": [
    {
     "data": {
      "text/html": [
       "<div>\n",
       "<style scoped>\n",
       "    .dataframe tbody tr th:only-of-type {\n",
       "        vertical-align: middle;\n",
       "    }\n",
       "\n",
       "    .dataframe tbody tr th {\n",
       "        vertical-align: top;\n",
       "    }\n",
       "\n",
       "    .dataframe thead th {\n",
       "        text-align: right;\n",
       "    }\n",
       "</style>\n",
       "<table border=\"1\" class=\"dataframe\">\n",
       "  <thead>\n",
       "    <tr style=\"text-align: right;\">\n",
       "      <th></th>\n",
       "      <th>Label</th>\n",
       "      <th>E-mail</th>\n",
       "    </tr>\n",
       "  </thead>\n",
       "  <tbody>\n",
       "    <tr>\n",
       "      <th>0</th>\n",
       "      <td>ham</td>\n",
       "      <td>Go until jurong point, crazy.. Available only ...</td>\n",
       "    </tr>\n",
       "    <tr>\n",
       "      <th>1</th>\n",
       "      <td>ham</td>\n",
       "      <td>Ok lar... Joking wif u oni...</td>\n",
       "    </tr>\n",
       "    <tr>\n",
       "      <th>2</th>\n",
       "      <td>spam</td>\n",
       "      <td>Free entry in 2 a wkly comp to win FA Cup fina...</td>\n",
       "    </tr>\n",
       "    <tr>\n",
       "      <th>3</th>\n",
       "      <td>ham</td>\n",
       "      <td>U dun say so early hor... U c already then say...</td>\n",
       "    </tr>\n",
       "    <tr>\n",
       "      <th>4</th>\n",
       "      <td>ham</td>\n",
       "      <td>Nah I don't think he goes to usf, he lives aro...</td>\n",
       "    </tr>\n",
       "    <tr>\n",
       "      <th>...</th>\n",
       "      <td>...</td>\n",
       "      <td>...</td>\n",
       "    </tr>\n",
       "    <tr>\n",
       "      <th>5567</th>\n",
       "      <td>spam</td>\n",
       "      <td>This is the 2nd time we have tried 2 contact u...</td>\n",
       "    </tr>\n",
       "    <tr>\n",
       "      <th>5568</th>\n",
       "      <td>ham</td>\n",
       "      <td>Will Ì_ b going to esplanade fr home?</td>\n",
       "    </tr>\n",
       "    <tr>\n",
       "      <th>5569</th>\n",
       "      <td>ham</td>\n",
       "      <td>Pity, * was in mood for that. So...any other s...</td>\n",
       "    </tr>\n",
       "    <tr>\n",
       "      <th>5570</th>\n",
       "      <td>ham</td>\n",
       "      <td>The guy did some bitching but I acted like i'd...</td>\n",
       "    </tr>\n",
       "    <tr>\n",
       "      <th>5571</th>\n",
       "      <td>ham</td>\n",
       "      <td>Rofl. Its true to its name</td>\n",
       "    </tr>\n",
       "  </tbody>\n",
       "</table>\n",
       "<p>5169 rows × 2 columns</p>\n",
       "</div>"
      ],
      "text/plain": [
       "     Label                                             E-mail\n",
       "0      ham  Go until jurong point, crazy.. Available only ...\n",
       "1      ham                      Ok lar... Joking wif u oni...\n",
       "2     spam  Free entry in 2 a wkly comp to win FA Cup fina...\n",
       "3      ham  U dun say so early hor... U c already then say...\n",
       "4      ham  Nah I don't think he goes to usf, he lives aro...\n",
       "...    ...                                                ...\n",
       "5567  spam  This is the 2nd time we have tried 2 contact u...\n",
       "5568   ham              Will Ì_ b going to esplanade fr home?\n",
       "5569   ham  Pity, * was in mood for that. So...any other s...\n",
       "5570   ham  The guy did some bitching but I acted like i'd...\n",
       "5571   ham                         Rofl. Its true to its name\n",
       "\n",
       "[5169 rows x 2 columns]"
      ]
     },
     "execution_count": 7,
     "metadata": {},
     "output_type": "execute_result"
    }
   ],
   "source": [
    "dataframe.drop_duplicates()"
   ]
  },
  {
   "cell_type": "code",
   "execution_count": 8,
   "id": "ad0596ec-0eec-4e93-bf38-40ea69e4c3a7",
   "metadata": {
    "tags": []
   },
   "outputs": [],
   "source": [
    "# Let's see how many spam- and non-spam messages we have (datapoints)\n",
    "count = dataframe['Label'].value_counts()"
   ]
  },
  {
   "cell_type": "code",
   "execution_count": 9,
   "id": "010f3247-e434-404c-9644-976315602332",
   "metadata": {
    "tags": []
   },
   "outputs": [
    {
     "name": "stdout",
     "output_type": "stream",
     "text": [
      "Count of non-spams: 4825\n",
      "Count of spams: 747\n"
     ]
    }
   ],
   "source": [
    "count_of_non_spams = count['ham']\n",
    "count_of_spams = count['spam']\n",
    "\n",
    "print(\"Count of non-spams:\", count_of_non_spams)\n",
    "print(\"Count of spams:\", count_of_spams)"
   ]
  },
  {
   "cell_type": "code",
   "execution_count": 10,
   "id": "2c242866-d734-49db-9ca6-9a792b26f641",
   "metadata": {
    "tags": []
   },
   "outputs": [],
   "source": [
    "# Let's change 'ham' and 'spam' into binary values, where 1 = spam and 0 = non-spam\n",
    "dataframe.loc[dataframe['Label'] == 'spam', 'Label',] = 1\n",
    "dataframe.loc[dataframe['Label'] == 'ham', 'Label',] = 0"
   ]
  },
  {
   "cell_type": "code",
   "execution_count": 11,
   "id": "f444fbda-719a-495f-8b1c-833b35490821",
   "metadata": {
    "tags": []
   },
   "outputs": [
    {
     "data": {
      "text/html": [
       "<div>\n",
       "<style scoped>\n",
       "    .dataframe tbody tr th:only-of-type {\n",
       "        vertical-align: middle;\n",
       "    }\n",
       "\n",
       "    .dataframe tbody tr th {\n",
       "        vertical-align: top;\n",
       "    }\n",
       "\n",
       "    .dataframe thead th {\n",
       "        text-align: right;\n",
       "    }\n",
       "</style>\n",
       "<table border=\"1\" class=\"dataframe\">\n",
       "  <thead>\n",
       "    <tr style=\"text-align: right;\">\n",
       "      <th></th>\n",
       "      <th>Label</th>\n",
       "      <th>E-mail</th>\n",
       "    </tr>\n",
       "  </thead>\n",
       "  <tbody>\n",
       "    <tr>\n",
       "      <th>0</th>\n",
       "      <td>0</td>\n",
       "      <td>Go until jurong point, crazy.. Available only ...</td>\n",
       "    </tr>\n",
       "    <tr>\n",
       "      <th>1</th>\n",
       "      <td>0</td>\n",
       "      <td>Ok lar... Joking wif u oni...</td>\n",
       "    </tr>\n",
       "    <tr>\n",
       "      <th>2</th>\n",
       "      <td>1</td>\n",
       "      <td>Free entry in 2 a wkly comp to win FA Cup fina...</td>\n",
       "    </tr>\n",
       "    <tr>\n",
       "      <th>3</th>\n",
       "      <td>0</td>\n",
       "      <td>U dun say so early hor... U c already then say...</td>\n",
       "    </tr>\n",
       "    <tr>\n",
       "      <th>4</th>\n",
       "      <td>0</td>\n",
       "      <td>Nah I don't think he goes to usf, he lives aro...</td>\n",
       "    </tr>\n",
       "  </tbody>\n",
       "</table>\n",
       "</div>"
      ],
      "text/plain": [
       "  Label                                             E-mail\n",
       "0     0  Go until jurong point, crazy.. Available only ...\n",
       "1     0                      Ok lar... Joking wif u oni...\n",
       "2     1  Free entry in 2 a wkly comp to win FA Cup fina...\n",
       "3     0  U dun say so early hor... U c already then say...\n",
       "4     0  Nah I don't think he goes to usf, he lives aro..."
      ]
     },
     "execution_count": 11,
     "metadata": {},
     "output_type": "execute_result"
    }
   ],
   "source": [
    "dataframe.head()"
   ]
  },
  {
   "cell_type": "code",
   "execution_count": 12,
   "id": "c363eb4f-b1e5-4312-a379-eb40303596de",
   "metadata": {
    "tags": []
   },
   "outputs": [
    {
     "data": {
      "image/png": "[encoded data removed]",
      "text/plain": [
       "<Figure size 640x480 with 1 Axes>"
      ]
     },
     "metadata": {},
     "output_type": "display_data"
    }
   ],
   "source": [
    "fig, ax = plt.subplots()\n",
    "ax.hist(dataframe['Label'])\n",
    "ax.set_title('Dataset \\nspam (\\'1\\') vs non-spam (\\'0\\')')\n",
    "ax.set_xlabel(\"spam labels\")\n",
    "ax.set_ylabel('number of datapoints')\n",
    "ax.set_xticks([0,1])\n",
    "plt.show()"
   ]
  },
  {
   "cell_type": "code",
   "execution_count": 13,
   "id": "b209aadb-8c32-4518-b975-57ba9781f3fe",
   "metadata": {
    "tags": []
   },
   "outputs": [],
   "source": [
    "# Let's seperate the columns of the data into their own parameters:\n",
    "X = dataframe['E-mail']\n",
    "y = dataframe['Label']"
   ]
  },
  {
   "cell_type": "code",
   "execution_count": 14,
   "id": "4cb8f501-611b-4a54-81de-3c9ec9630471",
   "metadata": {
    "tags": []
   },
   "outputs": [
    {
     "name": "stdout",
     "output_type": "stream",
     "text": [
      "0       Go until jurong point, crazy.. Available only ...\n",
      "1                           Ok lar... Joking wif u oni...\n",
      "2       Free entry in 2 a wkly comp to win FA Cup fina...\n",
      "3       U dun say so early hor... U c already then say...\n",
      "4       Nah I don't think he goes to usf, he lives aro...\n",
      "                              ...                        \n",
      "5567    This is the 2nd time we have tried 2 contact u...\n",
      "5568                Will Ì_ b going to esplanade fr home?\n",
      "5569    Pity, * was in mood for that. So...any other s...\n",
      "5570    The guy did some bitching but I acted like i'd...\n",
      "5571                           Rofl. Its true to its name\n",
      "Name: E-mail, Length: 5572, dtype: object 0       0\n",
      "1       0\n",
      "2       1\n",
      "3       0\n",
      "4       0\n",
      "       ..\n",
      "5567    1\n",
      "5568    0\n",
      "5569    0\n",
      "5570    0\n",
      "5571    0\n",
      "Name: Label, Length: 5572, dtype: object\n"
     ]
    }
   ],
   "source": [
    "print(X, y)"
   ]
  },
  {
   "cell_type": "code",
   "execution_count": 15,
   "id": "2ea01133-7b4c-41e0-b008-b1177ac7a080",
   "metadata": {
    "tags": []
   },
   "outputs": [],
   "source": [
    "# Let's make our sets. Training, valid and test with 7:1,5:1,5\n",
    "# Split the data into \"train\" (70%) and \"temp\" (30%)\n",
    "X_train, X_temp, y_train, y_temp = train_test_split(X, y, test_size=0.3, random_state=10)\n",
    "\n",
    "# Split the \"temp\" set into \"validation\" (50%) and \"test\" (50%)\n",
    "X_val, X_test, y_val, y_test = train_test_split(X_temp, y_temp, test_size=0.5, random_state=10)"
   ]
  },
  {
   "cell_type": "code",
   "execution_count": 16,
   "id": "fafb872c-5ac4-476c-8f63-c5b3dd1defce",
   "metadata": {
    "tags": []
   },
   "outputs": [
    {
     "name": "stdout",
     "output_type": "stream",
     "text": [
      "(5572,)\n",
      "(3900,)\n",
      "(836,)\n",
      "(836,)\n"
     ]
    }
   ],
   "source": [
    "# Let's check the shapes of the original-, test-, val- and train data's X and y to see that we have succeeded in the grouping\n",
    "print(X.shape)\n",
    "print(X_train.shape)\n",
    "print(X_val.shape)\n",
    "print(X_test.shape)"
   ]
  },
  {
   "cell_type": "code",
   "execution_count": 17,
   "id": "fe1394d0-0785-4f6e-998a-bd696e1d191f",
   "metadata": {
    "tags": []
   },
   "outputs": [
    {
     "name": "stdout",
     "output_type": "stream",
     "text": [
      "(5572,)\n",
      "(3900,)\n",
      "(836,)\n",
      "(836,)\n"
     ]
    }
   ],
   "source": [
    "print(y.shape)\n",
    "print(y_train.shape)\n",
    "print(y_val.shape)\n",
    "print(y_test.shape)"
   ]
  },
  {
   "cell_type": "code",
   "execution_count": 18,
   "id": "c58a5e16-a40e-4a98-b32c-b96a8c75da9d",
   "metadata": {
    "tags": []
   },
   "outputs": [],
   "source": [
    "# Since the lengths match, the grouping and distribution has succeeded"
   ]
  },
  {
   "cell_type": "code",
   "execution_count": 19,
   "id": "4d9bf322-2bff-40e0-9cdb-7b34f2db234c",
   "metadata": {
    "tags": []
   },
   "outputs": [],
   "source": [
    "# Let's now extract the features from data's. This is where TfidfVectorizer comes in.\n",
    "# This allows us to assess the quantity and quality of words in emails and help us determine the spams.\n",
    "# min_df ensures, that extremely infrequent words are cut-off of our equation, which makes these words more unique, making them less likely a spam\n",
    "# Frequently appearing words can be assumed to be part of a spam message\n",
    "features = TfidfVectorizer(min_df = 1, stop_words = 'english', lowercase = True)\n",
    "X_train_features = features.fit_transform(X_train)\n",
    "X_test_features = features.transform(X_test)\n",
    "X_val_features = features.transform(X_val)\n",
    "\n",
    "y_val = y_val.astype(int)\n",
    "y_train = y_train.astype(int)\n",
    "y_test = y_test.astype(int)"
   ]
  },
  {
   "cell_type": "code",
   "execution_count": 20,
   "id": "0992bc6f-1ca0-43d3-b967-af9190d19e91",
   "metadata": {
    "tags": []
   },
   "outputs": [],
   "source": [
    "# Let's see what kind of words appear most frequently in scams\n",
    "spam_most_used_words = []\n",
    "for sentence in dataframe[dataframe['Label'] == 1]['E-mail'].tolist():\n",
    "    for word in sentence.split():\n",
    "        if len(word)> 2:\n",
    "            spam_most_used_words.append(word)\n",
    "\n",
    "filter_df = pd.DataFrame(Counter(spam_most_used_words).most_common(30))"
   ]
  },
  {
   "cell_type": "code",
   "execution_count": 21,
   "id": "dd939f25-0936-461b-9579-39b3ee93e9ed",
   "metadata": {
    "tags": []
   },
   "outputs": [
    {
     "data": {
      "image/png": "[encoded data removed]",
      "text/plain": [
       "<Figure size 700x700 with 1 Axes>"
      ]
     },
     "metadata": {},
     "output_type": "display_data"
    }
   ],
   "source": [
    "plt.figure(figsize=(7, 7))\n",
    "plt.barh(filter_df[0], filter_df[1])\n",
    "plt.xlabel('Frequency')\n",
    "plt.ylabel('Words')\n",
    "plt.title('The most frequently appearing words in spam e-mails')\n",
    "plt.show()"
   ]
  },
  {
   "cell_type": "code",
   "execution_count": 22,
   "id": "8f3f3679-cdbf-460a-bee7-f18e53895488",
   "metadata": {
    "tags": []
   },
   "outputs": [
    {
     "name": "stdout",
     "output_type": "stream",
     "text": [
      "2290    HEY THERE BABE, HOW U DOIN? WOT U UP 2 2NITE L...\n",
      "4087    He needs to stop going to bed and make with th...\n",
      "2136                          Well done and ! luv ya all \n",
      "4667    IM REALY SOZ IMAT MY MUMS 2NITE WHAT ABOUT 2MORO \n",
      "4587    I wanted to wish you a Happy New Year and I wa...\n",
      "                              ...                        \n",
      "1180                           I'm in chennai velachery:)\n",
      "3441    Save money on wedding lingerie at www.bridal.p...\n",
      "1344                     Were somewhere on Fredericksburg\n",
      "4623    Jus finish blowing my hair. U finish dinner al...\n",
      "1289    Hey...Great deal...Farm tour 9am to 5pm $95/pa...\n",
      "Name: E-mail, Length: 3900, dtype: object\n"
     ]
    }
   ],
   "source": [
    "print(X_train)"
   ]
  },
  {
   "cell_type": "code",
   "execution_count": 23,
   "id": "a30aaf89-8536-4344-ba0d-670189a8d833",
   "metadata": {
    "tags": []
   },
   "outputs": [
    {
     "name": "stdout",
     "output_type": "stream",
     "text": [
      "  (0, 854)\t0.5016970086542163\n",
      "  (0, 3797)\t0.2626624828835249\n",
      "  (0, 369)\t0.41370667298917224\n",
      "  (0, 6828)\t0.37315672973926345\n",
      "  (0, 2162)\t0.43742686919673984\n",
      "  (0, 1050)\t0.30888659028178705\n",
      "  (0, 3075)\t0.28662900030567595\n",
      "  (1, 1971)\t0.4989248514357227\n",
      "  (1, 2725)\t0.4093828265288236\n",
      "  (1, 3890)\t0.3130107735951054\n",
      "  (1, 1139)\t0.38620925349314306\n",
      "  (1, 2856)\t0.27315627842982065\n",
      "  (1, 5852)\t0.284188912439452\n",
      "  (1, 4265)\t0.42540412749952006\n",
      "  (2, 6881)\t0.6729504060422761\n",
      "  (2, 3835)\t0.7396876036595016\n",
      "  (3, 360)\t0.3846654452456247\n",
      "  (3, 4184)\t0.41849014704923565\n",
      "  (3, 3254)\t0.41849014704923565\n",
      "  (3, 5716)\t0.41849014704923565\n",
      "  (3, 5047)\t0.3737763234338551\n",
      "  (3, 3249)\t0.26044675315741483\n",
      "  (3, 369)\t0.34509308093924934\n",
      "  (4, 2868)\t0.14196458288801908\n",
      "  (4, 3137)\t0.16659198869161834\n",
      "  :\t:\n",
      "  (3896, 1357)\t0.2690633585349523\n",
      "  (3896, 2018)\t0.23047149600357264\n",
      "  (3896, 1622)\t0.23831004409365628\n",
      "  (3896, 6417)\t0.18748292422662982\n",
      "  (3896, 6859)\t0.17347016324467854\n",
      "  (3896, 4114)\t0.19430320313324012\n",
      "  (3896, 4237)\t0.22036584990137845\n",
      "  (3897, 2682)\t1.0\n",
      "  (3898, 1239)\t0.4727000317219515\n",
      "  (3898, 2103)\t0.3357320715864844\n",
      "  (3898, 2575)\t0.6506021195113094\n",
      "  (3898, 3482)\t0.3313201205803172\n",
      "  (3898, 2977)\t0.3616386537752145\n",
      "  (3899, 2033)\t0.3415568326716935\n",
      "  (3899, 4585)\t0.3415568326716935\n",
      "  (3899, 657)\t0.3415568326716935\n",
      "  (3899, 6308)\t0.29780152839481755\n",
      "  (3899, 2503)\t0.325408051739671\n",
      "  (3899, 506)\t0.325408051739671\n",
      "  (3899, 664)\t0.3050629938599679\n",
      "  (3899, 478)\t0.22030021920174508\n",
      "  (3899, 1969)\t0.2816527474627951\n",
      "  (3899, 2918)\t0.19414213890904333\n",
      "  (3899, 286)\t0.22990517199983632\n",
      "  (3899, 3075)\t0.19513788563115803\n"
     ]
    }
   ],
   "source": [
    "print(X_train_features)"
   ]
  },
  {
   "cell_type": "code",
   "execution_count": 24,
   "id": "892acc99-a373-4b5f-9047-3b78fc5a31dd",
   "metadata": {},
   "outputs": [],
   "source": [
    "def generate_confusion_matrix(y_true, y_pred, title_main):\n",
    "    # visualize the confusion matrix\n",
    "    ax = plt.subplot()\n",
    "    c_mat = confusion_matrix(y_true, y_pred)\n",
    "    sns.heatmap(c_mat, annot=True, fmt='g', ax=ax)\n",
    "\n",
    "    ax.set_xlabel('Predicted labels', fontsize=15)\n",
    "    ax.set_ylabel('True labels', fontsize=15)\n",
    "    ax.set_title(title_main, fontsize=15)"
   ]
  },
  {
   "cell_type": "code",
   "execution_count": 25,
   "id": "88d4afff-f87a-49fc-b40f-9505a0e4a70c",
   "metadata": {
    "tags": []
   },
   "outputs": [],
   "source": [
    "# Let's train our model and then do validation\n",
    "clf_1 = LogisticRegression(solver = 'liblinear').fit(X_train_features, y_train)"
   ]
  },
  {
   "cell_type": "code",
   "execution_count": 26,
   "id": "5e8741cd-7666-49ae-9e2f-1175b0423e0c",
   "metadata": {
    "tags": []
   },
   "outputs": [],
   "source": [
    "y_val_pred = clf_1.predict(X_val_features)\n",
    "tr_error = log_loss(y_val,y_val_pred)\n",
    "train_accuracy = accuracy_score(y_val, y_val_pred)"
   ]
  },
  {
   "cell_type": "code",
   "execution_count": 27,
   "id": "2376e976-59bf-4eca-a714-01a1fbf7ec35",
   "metadata": {
    "tags": []
   },
   "outputs": [
    {
     "name": "stdout",
     "output_type": "stream",
     "text": [
      "The training error is: 1.681462299253073\n",
      "The training accuracy: 0.9533492822966507\n"
     ]
    }
   ],
   "source": [
    "print(f\"The training error is: {tr_error}\")\n",
    "print(f\"The training accuracy: {train_accuracy}\")"
   ]
  },
  {
   "cell_type": "code",
   "execution_count": 28,
   "id": "f29d3ad2-9612-4678-b9ce-ab295fa96042",
   "metadata": {},
   "outputs": [
    {
     "data": {
      "image/png": "[encoded data removed]",
      "text/plain": [
       "<Figure size 640x480 with 2 Axes>"
      ]
     },
     "metadata": {},
     "output_type": "display_data"
    }
   ],
   "source": [
    "generate_confusion_matrix(y_val, y_val_pred, 'Confusion matrix (validation)' )"
   ]
  },
  {
   "cell_type": "code",
   "execution_count": 29,
   "id": "b8be8f18-5d2a-4913-8b81-e31b51574f85",
   "metadata": {
    "tags": []
   },
   "outputs": [],
   "source": [
    "# Let's also use our test set\n",
    "y_test_pred = clf_1.predict(X_test_features)\n",
    "tst_error = log_loss(y_test,y_test_pred)\n",
    "test_accuracy = accuracy_score(y_test, y_test_pred)"
   ]
  },
  {
   "cell_type": "code",
   "execution_count": 30,
   "id": "f907a3ef-c34c-4977-b0ff-215fea52476f",
   "metadata": {
    "tags": []
   },
   "outputs": [
    {
     "name": "stdout",
     "output_type": "stream",
     "text": [
      "The test error is: 1.0778604482391494\n",
      "The test accuracy: 0.9700956937799043\n"
     ]
    }
   ],
   "source": [
    "print(f\"The test error is: {tst_error}\")\n",
    "print(f\"The test accuracy: {test_accuracy}\")"
   ]
  },
  {
   "cell_type": "code",
   "execution_count": 31,
   "id": "e8e72f5b-bc42-46ae-83c6-e6dee67a8c35",
   "metadata": {
    "tags": []
   },
   "outputs": [
    {
     "data": {
      "image/png": "[encoded data removed]",
      "text/plain": [
       "<Figure size 640x480 with 2 Axes>"
      ]
     },
     "metadata": {},
     "output_type": "display_data"
    }
   ],
   "source": [
    "generate_confusion_matrix(y_test, y_test_pred, 'Confusion matrix (test)')"
   ]
  },
  {
   "cell_type": "code",
   "execution_count": null,
   "id": "f7b4fda7-cb54-4b10-aeef-a52afb5a68e6",
   "metadata": {},
   "outputs": [],
   "source": []
  }
 ],
 "metadata": {
  "kernelspec": {
   "display_name": "Python 3",
   "language": "python",
   "name": "python3"
  },
  "language_info": {
   "codemirror_mode": {
    "name": "ipython",
    "version": 3
   },
   "file_extension": ".py",
   "mimetype": "text/x-python",
   "name": "python",
   "nbconvert_exporter": "python",
   "pygments_lexer": "ipython3",
   "version": "3.10.8"
  }
 },
 "nbformat": 4,
 "nbformat_minor": 5
}
